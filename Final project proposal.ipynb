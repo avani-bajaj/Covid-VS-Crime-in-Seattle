{
 "cells": [
  {
   "cell_type": "markdown",
   "metadata": {},
   "source": [
    "# A5: Final project proposal"
   ]
  },
  {
   "cell_type": "markdown",
   "metadata": {},
   "source": [
    "**Motivation and problem statement:** \n",
    "\n",
    "Being a student at the University of Washington, we regularly come across the email from UW-Alert regarding the crimes happening around the campus. These crimes are increasing regularly and mostly the criminals don’t get caught. Also, as since the COVID-19 started, a lot of people are having health issues, lost their jobs, have to stay at home etc. This encouraged me to look into the crime dataset in the Seattle region (2009-2020) and also understand how COVID has impacted crimes in Seattle.\n",
    "\n",
    "In my final project for the course Human Centered Data Science (HCDS) by University of Washington, I want to understand the relationship between the COVID-19 data with the crime data. We want to identify how the trend looks for various regions, how is the relationship between crimes with different risk levels - low risk(robbery) to high risk(murder).  \n",
    "\n",
    "This could help the law-enforcement agencies to take better measures to minimize the types of crime that are increasing in a regions. For example, assuming that people are staying at home and not going out the chances of a snaching happeing decreases whereas if the criminals are desparate enough this could lead to a higher level of crime in the regions. Exploring these relationship will help in determining the crimes and taking required preventive measures. \n",
    "\n",
    "\n",
    "\n",
    "\n"
   ]
  },
  {
   "attachments": {},
   "cell_type": "markdown",
   "metadata": {},
   "source": [
    "**About Seattle 911 Calls dataset, COVID counts dataset:**\n",
    "\n",
    "For the project, I am planning to use the publicly available Seattle 911 call data (can be found at https://data.seattle.gov/Public-Safety/Call-Data/33kz-ixgy) and Washington state COVID 19 dataset (can be found at : https://www.doh.wa.gov/Emergencies/COVID19/DataDashboard#tables). \n",
    "\n",
    "Seattle 911 Calls data represents police response activity.  Each row is a record of a Call for Service (CfS) logged with the Seattle Police Department (SPD) Communications Center. Calls originated from the community and range from in progress or active emergencies to requests for problem-solving. Additionally, officers will log calls from their observations of the field. The data is available since 2010 and contains the latest 911call information (around 4 million records), but for this analysis, I will be using data since March 2020 i.e. since we started recording COVID cases. These data are queried from the Data Analytics Platform (DAP) and updated incrementally daily. The data contains various crucial features that can help to understand the data better. The various parameters are –\n",
    "\n",
    "* Precinct: This variable contains details regarding the location where the call was originated. The nearest Precinct to where the call originated.\n",
    "* Sector: This variable contains details regarding the location where the call was originated. This is a sub-category of the Precincts variable. All Sectors roll up to one of five Precincts.\n",
    "* Beat: Beat is a sub-category for sector variables. All Beats roll up to Sectors. To safeguard the privacy of our community, calls will only be located in the “beat” level. Beats are the most granular unit of management used for patrol deployment.\n",
    "* Event Clearance Description: This variable revolves around how the call was resolved, as reported by the primary officer. Was the call responded with just assistance or require additional follow-ups? \n",
    "* Call Type: This variable tracks how the call was received by the Communications Center i.e. was it a 911 call or other call\n",
    "* Priority: This refers to the intensity of the crime taking place - is it a serious crime or a mistake, did someone get hurt or people are safe. The priority of the call is assigned by the CAD system and would be one of the key features for the project.\n",
    "* Initial Call Type: How the call was classified, initially by the Communication Center\n",
    "* Final Call Type: How the call was classified, finally by the primary officer.\n",
    "* Original Time Queued: Time queued in the CAD system.\n",
    "* Arrived Time: Time the first officer arrived on the call\n",
    "\n",
    "As with any data, certain conditions and qualifications apply:\n",
    "\n",
    "1. These data are queried from the Data Analytics Platform (DAP) and updated incrementally daily. A full refresh will occur twice a year and is intended to reconcile minor changes.\n",
    "\n",
    "2. This data set only contains records of police response. If a call is queued in the system but cleared before an officer can respond, it will not be included.\n",
    "\n",
    "3. These data contain administrative call types. Use the “Initial” and “Final” call type to identify the calls you wish to include in your analysis.\n",
    "\n",
    "Washington State COVID-19 data represents the weekly count of COVID cases in various county. The data is weekly updated with the information regarding the COVID positive cases found every week per County. This data would be helpful to check the trend across various regions. The file contains the following features - \n",
    "* County: This variable contains details regarding the location where the case was found. \n",
    "* WeekStartDate: The variable contains the weekly aggregated informations for a date\n",
    "* NewPos_All: All the positive COVID19 cases found in the given week and in that County.\n",
    "* Age - We also have some age groups information which is not currently being used but could be useful in future\n",
    "* dtm_updated: The date when the latest information was updated on the database. \n",
    "\n",
    "\n",
    "Using the above datasets, we can explore the features which can help us determine the trend across the regions. I also want to create new variables like time taken by the police to reach the incident site. This variable can be calculated from 2 parameters provided in the dataset – Original time queued, arrived time. We can then look into the relationship between the crimes and COVID cases. \n",
    "\n",
    "We have also gathered data from other regions including Baltimore, New York. If time permits we would want to extend the analysis over a larger area and identify the high crime regions in other states and share the recommendations over the same. The datasets available from Baltimore and New YorkPolice Department are similar to the dataset available to us by Seattle. If we can replicate the same analysis over another place, we will be able to generalize our results.\n"
   ]
  },
  {
   "cell_type": "markdown",
   "metadata": {},
   "source": [
    "**Unknowns and dependencies:**\n",
    "\n",
    "I am using the datasets that are regularly updated by the government - Seattle police department and Washington Health Department. My analysis is totally dependent on the data that is available on the sources mentioned. In case, there was any issue on their end while uploading the correct dataset, it could lead to wrong results.\n",
    "\n",
    "There are multiple dependencies which I have not yet considered that includes - any lockdowns or restrictions on the regions, the impact on Black Lives Matter movement(BLM) when people came out to support the cause. \n",
    "\n",
    "I will be able to complete the investigation in the given period of time/ before the project deadline given the dataset I am using."
   ]
  },
  {
   "cell_type": "markdown",
   "metadata": {},
   "source": [
    "**Research questions and/or hypotheses** \n",
    "\n",
    "Research question: \n",
    "I want to find the relationship between the COVID cases being captured in Seattle to the crime cases in Seattle. I also want to look into the trends before and after COVID.\n",
    "\n",
    "Another question I want to explore is the trend for different crimedata call types.  \n",
    "\n",
    "Hypothesis: \n",
    "Our hypothesis is that the COVID cases should decrease since the COVID as people are staying inside home.\n",
    "We also expect to see an increase in crimes happening inside a household -  ranging from assault to murder. \n",
    "\n"
   ]
  },
  {
   "cell_type": "markdown",
   "metadata": {},
   "source": [
    "**Background/Related Work**  \n",
    "\n",
    "According to National Committee of COVID and criminal justice also wrote in their impact report that though they observed a drop in burglary they observed an increased crime in assault or homocides. \n",
    "They have provided an aggregated information and we expect to find a similar trend in the Seattle dataset as well. \n",
    "\n",
    "Reports : \n",
    "https://covid19.counciloncj.org/2020/09/26/impact-report-covid-19-and-crime/ \n",
    "https://covid19.counciloncj.org/2020/07/28/crime/\n",
    "\n",
    "Also, after reading the paper (), we understood that the crime drop is being driven by decreases in minor offenses which are typically committed in peer groups. At the same time, serious crimes which are generally not committed with co-offenders (namely homicide and intimate partner violence) have either remained constant or increased during COVID which will be covered in our second queston i.e. explorign the COVID relationship across various crime call types .\n",
    "\n",
    "\n"
   ]
  },
  {
   "cell_type": "markdown",
   "metadata": {},
   "source": [
    "**Methodology**  \n",
    "In the project, we plan to do the following - \n",
    "1. Exploratory data analysis to understand the trends\n",
    "2. Build a baseline regression model to predict the crime rates in Seattle for the year 2020\n",
    "3. Explore how the predictions and actual data trends have changed \n",
    "4. Find the relationship between the COVID dataset and the "
   ]
  },
  {
   "cell_type": "code",
   "execution_count": null,
   "metadata": {},
   "outputs": [],
   "source": []
  }
 ],
 "metadata": {
  "kernelspec": {
   "display_name": "Python 3",
   "language": "python",
   "name": "python3"
  },
  "language_info": {
   "codemirror_mode": {
    "name": "ipython",
    "version": 3
   },
   "file_extension": ".py",
   "mimetype": "text/x-python",
   "name": "python",
   "nbconvert_exporter": "python",
   "pygments_lexer": "ipython3",
   "version": "3.7.4"
  }
 },
 "nbformat": 4,
 "nbformat_minor": 2
}
